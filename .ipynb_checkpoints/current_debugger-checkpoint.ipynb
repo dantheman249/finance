{
 "cells": [
  {
   "cell_type": "code",
   "execution_count": 1,
   "metadata": {},
   "outputs": [
    {
     "name": "stderr",
     "output_type": "stream",
     "text": [
      "c:\\users\\daniel\\appdata\\local\\programs\\python\\python38-32\\lib\\site-packages\\pandas_datareader\\compat\\__init__.py:7: FutureWarning: pandas.util.testing is deprecated. Use the functions in the public API at pandas.testing instead.\n",
      "  from pandas.util.testing import assert_frame_equal\n"
     ]
    }
   ],
   "source": [
    "#import packages\n",
    "import datetime as dt \n",
    "import lxml\n",
    "from lxml import html, etree\n",
    "import requests\n",
    "import numpy as np\n",
    "import pandas as pd\n",
    "import pandas_datareader\n",
    "from pandas_datareader import data as pdr\n",
    "import time\n",
    "from time import sleep\n",
    "import string\n",
    "import yfinance as yf\n",
    "from bs4 import BeautifulSoup\n",
    "import urllib\n",
    "import io\n",
    "import os\n",
    "import pandasql\n",
    "from pandasql import sqldf\n",
    "import re\n",
    "import gc\n",
    "import zipfile\n",
    "from zipfile import ZipFile\n",
    "from io import StringIO\n",
    "import sys\n",
    "\n",
    "from os import listdir\n",
    "from os.path import isfile, join\n",
    "import psutil\n",
    "\n",
    "from collections import Counter\n",
    "import linecache\n",
    "import tracemalloc\n",
    "\n",
    "import reshape\n"
   ]
  },
  {
   "cell_type": "code",
   "execution_count": 2,
   "metadata": {},
   "outputs": [],
   "source": [
    "df = pd.read_csv(\"total_finance_table.csv\")"
   ]
  },
  {
   "cell_type": "code",
   "execution_count": null,
   "metadata": {},
   "outputs": [],
   "source": [
    "df.dtypes"
   ]
  },
  {
   "cell_type": "code",
   "execution_count": 7,
   "metadata": {},
   "outputs": [
    {
     "name": "stdout",
     "output_type": "stream",
     "text": [
      "         Unnamed: 0                        name     sic    fye  form  \\\n",
      "1742561           0  CONSTELLATION BRANDS, INC.  2080.0  229.0  10-K   \n",
      "1742562           1  CONSTELLATION BRANDS, INC.  2080.0  229.0  10-K   \n",
      "1742603          42  CONSTELLATION BRANDS, INC.  2080.0  229.0  10-K   \n",
      "1742604          43  CONSTELLATION BRANDS, INC.  2080.0  229.0  10-K   \n",
      "1742605          44  CONSTELLATION BRANDS, INC.  2080.0  229.0  10-K   \n",
      "...             ...                         ...     ...    ...   ...   \n",
      "1750506         143  CONSTELLATION BRANDS, INC.  2080.0  229.0  10-K   \n",
      "1750507         144  CONSTELLATION BRANDS, INC.  2080.0  229.0  10-K   \n",
      "1750508         145  CONSTELLATION BRANDS, INC.  2080.0  229.0  10-K   \n",
      "1750509         146  CONSTELLATION BRANDS, INC.  2080.0  229.0  10-K   \n",
      "1750510         147  CONSTELLATION BRANDS, INC.  2080.0  229.0  10-K   \n",
      "\n",
      "             period      fy  fp     filed ticker    cik     ddate  qtrs  uom  \\\n",
      "1742561  20200229.0  2019.0  FY  20200421    stz  16918  20200229   0.0  USD   \n",
      "1742562  20200229.0  2019.0  FY  20200421    stz  16918  20190228   0.0  USD   \n",
      "1742603  20200229.0  2019.0  FY  20200421    stz  16918  20200229   0.0  USD   \n",
      "1742604  20200229.0  2019.0  FY  20200421    stz  16918  20190228   0.0  USD   \n",
      "1742605  20200229.0  2019.0  FY  20200421    stz  16918  20200229   0.0  USD   \n",
      "...             ...     ...  ..       ...    ...    ...       ...   ...  ...   \n",
      "1750506  20200229.0  2019.0  FY  20200421    stz  16918  20190228   4.0  USD   \n",
      "1750507  20200229.0  2019.0  FY  20200421    stz  16918  20180228   4.0  USD   \n",
      "1750508  20200229.0  2019.0  FY  20200421    stz  16918  20200229   4.0  USD   \n",
      "1750509  20200229.0  2019.0  FY  20200421    stz  16918  20190228   4.0  USD   \n",
      "1750510  20200229.0  2019.0  FY  20200421    stz  16918  20180228   4.0  USD   \n",
      "\n",
      "                value                  adsh stmt  \\\n",
      "1742561  5.576000e+08  0000016918-20-000078   BS   \n",
      "1742562  6.167000e+08  0000016918-20-000078   BS   \n",
      "1742603 -2.663000e+08  0000016918-20-000078   BS   \n",
      "1742604 -3.539000e+08  0000016918-20-000078   BS   \n",
      "1742605  1.514600e+09  0000016918-20-000078   BS   \n",
      "...               ...                   ...  ...   \n",
      "1750506  0.000000e+00  0000016918-20-000078   CF   \n",
      "1750507 -5.900000e+07  0000016918-20-000078   CF   \n",
      "1750508  8.200000e+06  0000016918-20-000078   CF   \n",
      "1750509  3.460000e+07  0000016918-20-000078   CF   \n",
      "1750510  1.222000e+08  0000016918-20-000078   CF   \n",
      "\n",
      "                                                       tag  \\\n",
      "1742561                             AccountsPayableCurrent   \n",
      "1742562                             AccountsPayableCurrent   \n",
      "1742603    AccumulatedOtherComprehensiveIncomeLossNetOfTax   \n",
      "1742604    AccumulatedOtherComprehensiveIncomeLossNetOfTax   \n",
      "1742605                            AdditionalPaidInCapital   \n",
      "...                                                    ...   \n",
      "1750506                 LossonInventoryandRelatedContracts   \n",
      "1750507                 LossonInventoryandRelatedContracts   \n",
      "1750508  PaymentsOfDebtExtinguishmentDebtIssuanceAndOth...   \n",
      "1750509  PaymentsOfDebtExtinguishmentDebtIssuanceAndOth...   \n",
      "1750510  PaymentsOfDebtExtinguishmentDebtIssuanceAndOth...   \n",
      "\n",
      "                      version  \\\n",
      "1742561          us-gaap/2019   \n",
      "1742562          us-gaap/2019   \n",
      "1742603          us-gaap/2019   \n",
      "1742604          us-gaap/2019   \n",
      "1742605          us-gaap/2019   \n",
      "...                       ...   \n",
      "1750506  0000016918-20-000078   \n",
      "1750507  0000016918-20-000078   \n",
      "1750508  0000016918-20-000078   \n",
      "1750509  0000016918-20-000078   \n",
      "1750510  0000016918-20-000078   \n",
      "\n",
      "                                                    plabel  \n",
      "1742561                                   Accounts payable  \n",
      "1742562                                   Accounts payable  \n",
      "1742603      Accumulated other comprehensive income (loss)  \n",
      "1742604      Accumulated other comprehensive income (loss)  \n",
      "1742605                         Additional paid-in capital  \n",
      "...                                                    ...  \n",
      "1750506            Loss on inventory and related contracts  \n",
      "1750507            Loss on inventory and related contracts  \n",
      "1750508  Payments of debt issuance, debt extinguishment...  \n",
      "1750509  Payments of debt issuance, debt extinguishment...  \n",
      "1750510  Payments of debt issuance, debt extinguishment...  \n",
      "\n",
      "[351 rows x 20 columns]\n"
     ]
    }
   ],
   "source": [
    "# want to be able to get the plabels and tags and values of a company for a year where data is missing \n",
    "\n",
    "#ex1: stz, cik = 16918 has no shares outstanding data\n",
    "\n",
    "_year = 2019.0\n",
    "_ticker = 'cl' \n",
    "#_stmt = 'BS'\n",
    "\n",
    "\n",
    "ex1 = df[(df['fy'] == _year)\n",
    "        & (df['ticker'] == _ticker)\n",
    "        ]\n",
    "\n",
    "print(ex1)\n",
    "ex1.to_csv(\"ex1.csv\")"
   ]
  },
  {
   "cell_type": "code",
   "execution_count": null,
   "metadata": {},
   "outputs": [],
   "source": []
  },
  {
   "cell_type": "code",
   "execution_count": null,
   "metadata": {
    "scrolled": false
   },
   "outputs": [],
   "source": [
    "#debug df\n",
    "label_counts = df.groupby(['plabel', \n",
    "'tag', \n",
    "'stmt', \n",
    "'qtrs']).size().reset_index(name=\"frequency\")\n",
    "\n",
    "ordered_label = sqldf(\"\"\"\n",
    "SELECT \n",
    "* \n",
    "FROM \n",
    "label_counts \n",
    "WHERE frequency >= 10\n",
    "ORDER BY \n",
    "stmt, \n",
    "frequency DESC\n",
    "\"\"\")\n",
    "\n",
    "ordered_label.to_csv(\"label_counts.csv\")\n",
    "print(ordered_label)"
   ]
  },
  {
   "cell_type": "code",
   "execution_count": null,
   "metadata": {},
   "outputs": [],
   "source": []
  },
  {
   "cell_type": "code",
   "execution_count": null,
   "metadata": {},
   "outputs": [],
   "source": []
  },
  {
   "cell_type": "code",
   "execution_count": null,
   "metadata": {},
   "outputs": [],
   "source": []
  }
 ],
 "metadata": {
  "kernelspec": {
   "display_name": "Python 3",
   "language": "python",
   "name": "python3"
  },
  "language_info": {
   "codemirror_mode": {
    "name": "ipython",
    "version": 3
   },
   "file_extension": ".py",
   "mimetype": "text/x-python",
   "name": "python",
   "nbconvert_exporter": "python",
   "pygments_lexer": "ipython3",
   "version": "3.8.3"
  }
 },
 "nbformat": 4,
 "nbformat_minor": 4
}
