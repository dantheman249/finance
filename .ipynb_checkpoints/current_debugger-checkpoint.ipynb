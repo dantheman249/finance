{
 "cells": [
  {
   "cell_type": "code",
   "execution_count": null,
   "metadata": {},
   "outputs": [],
   "source": [
    "#import packages\n",
    "import datetime as dt \n",
    "import lxml\n",
    "from lxml import html, etree\n",
    "import requests\n",
    "import numpy as np\n",
    "import pandas as pd\n",
    "import pandas_datareader\n",
    "from pandas_datareader import data as pdr\n",
    "import time\n",
    "from time import sleep\n",
    "import string\n",
    "import yfinance as yf\n",
    "from bs4 import BeautifulSoup\n",
    "import urllib\n",
    "import io\n",
    "import os\n",
    "import pandasql\n",
    "from pandasql import sqldf\n",
    "import re\n",
    "import gc\n",
    "import zipfile\n",
    "from zipfile import ZipFile\n",
    "from io import StringIO\n",
    "import sys\n",
    "\n",
    "from os import listdir\n",
    "from os.path import isfile, join\n",
    "import psutil\n",
    "\n",
    "from collections import Counter\n",
    "import linecache\n",
    "import tracemalloc\n",
    "\n",
    "import reshape\n"
   ]
  },
  {
   "cell_type": "code",
   "execution_count": null,
   "metadata": {},
   "outputs": [],
   "source": [
    "df = pd.read_csv(\"total_finance_table.csv\")"
   ]
  },
  {
   "cell_type": "code",
   "execution_count": 7,
   "metadata": {},
   "outputs": [
    {
     "name": "stdout",
     "output_type": "stream",
     "text": [
      "                                                  plabel  \\\n",
      "0                         \u0013 Basic (in dollars per share)   \n",
      "1                                    \u0013 Basic (per share)   \n",
      "2                       \u0013 Diluted (in dollars per share)   \n",
      "3                                  \u0013 Diluted (per share)   \n",
      "4                             \u0014 Basic earnings per share   \n",
      "...                                                  ...   \n",
      "83879  weighted average price per treasury share with...   \n",
      "83880  weighted average price per treasury share with...   \n",
      "83881                                  xpedx divestiture   \n",
      "83882                                      xpedx spinoff   \n",
      "83883  {Gain) loss on sale of non-strategic businesse...   \n",
      "\n",
      "                                                     tag stmt  qtrs  frequency  \n",
      "0                                  EarningsPerShareBasic   IS   4.0          3  \n",
      "1                                  EarningsPerShareBasic   IS   4.0          3  \n",
      "2                                EarningsPerShareDiluted   IS   4.0          3  \n",
      "3                                EarningsPerShareDiluted   IS   4.0          3  \n",
      "4        IncomeLossFromContinuingOperationsPerBasicShare   IS   1.0          8  \n",
      "...                                                  ...  ...   ...        ...  \n",
      "83879  WeightedAveragePricePerTreasuryShareWithheldFo...   EQ   4.0          6  \n",
      "83880  WeightedAveragePricePerTreasuryShareWithheldFo...   EQ   4.0          3  \n",
      "83881          AdjustmentsToAdditionalPaidInCapitalOther   EQ   4.0          1  \n",
      "83882           StockholdersEquityNoteSpinoffTransaction   EQ   4.0          2  \n",
      "83883    GainLossOnSaleOfNonstrategicBusinessesAndAssets   CF   4.0          6  \n",
      "\n",
      "[83884 rows x 5 columns]\n"
     ]
    }
   ],
   "source": [
    "#debug df\n",
    "label_counts = df.groupby(['plabel', \n",
    "'tag', \n",
    "'stmt', \n",
    "'qtrs']).size().reset_index(name=\"frequency\")\n",
    "\n",
    "ordered_label = sqldf(\"\"\"\n",
    "SELECT \n",
    "* \n",
    "FROM \n",
    "label_counts \n",
    "WHERE frequency >= 10\n",
    "ORDER BY \n",
    "stmt, \n",
    "frequency DESC\n",
    "\"\"\")\n",
    "\n",
    "ordered_label.to_csv(\"label_counts.csv\")\n",
    "print(ordered_label)"
   ]
  },
  {
   "cell_type": "code",
   "execution_count": 8,
   "metadata": {},
   "outputs": [
    {
     "name": "stdout",
     "output_type": "stream",
     "text": [
      "                                               plabel  \\\n",
      "0                           Cash and cash equivalents   \n",
      "1                                            Goodwill   \n",
      "2                                        Total assets   \n",
      "3                           Total current liabilities   \n",
      "4                                Total current assets   \n",
      "...                                               ...   \n",
      "28513                                           Total   \n",
      "28514                          Treasury stock, shares   \n",
      "28515  Tysabri® royalty stream - change in fair value   \n",
      "28516                                     Write-downs   \n",
      "28517                    Write-off of financing costs   \n",
      "\n",
      "                                                     tag stmt  qtrs  frequency  \n",
      "0                  CashAndCashEquivalentsAtCarryingValue   BS   0.0      14477  \n",
      "1                                               Goodwill   BS   0.0       8428  \n",
      "2                                                 Assets   BS   0.0       7847  \n",
      "3                                     LiabilitiesCurrent   BS   0.0       6765  \n",
      "4                                          AssetsCurrent   BS   0.0       6727  \n",
      "...                                                  ...  ...   ...        ...  \n",
      "28513  OperatingExpensesWithWriteOffOfInProcessResear...   IS   4.0         10  \n",
      "28514                                TreasuryStockShares   IS   0.0         10  \n",
      "28515         FairValueOptionChangesInFairValueGainLoss1   IS   1.0         10  \n",
      "28516                             AssetImpairmentCharges   IS   4.0         10  \n",
      "28517                           WriteOffOfFinancingCosts   IS   4.0         10  \n",
      "\n",
      "[28518 rows x 5 columns]\n"
     ]
    }
   ],
   "source": []
  },
  {
   "cell_type": "code",
   "execution_count": null,
   "metadata": {},
   "outputs": [],
   "source": []
  },
  {
   "cell_type": "code",
   "execution_count": null,
   "metadata": {},
   "outputs": [],
   "source": []
  }
 ],
 "metadata": {
  "kernelspec": {
   "display_name": "Python 3",
   "language": "python",
   "name": "python3"
  },
  "language_info": {
   "codemirror_mode": {
    "name": "ipython",
    "version": 3
   },
   "file_extension": ".py",
   "mimetype": "text/x-python",
   "name": "python",
   "nbconvert_exporter": "python",
   "pygments_lexer": "ipython3",
   "version": "3.8.3"
  }
 },
 "nbformat": 4,
 "nbformat_minor": 4
}
