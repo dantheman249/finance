{
 "cells": [
  {
   "cell_type": "code",
   "execution_count": null,
   "metadata": {},
   "outputs": [],
   "source": [
    "import import_ipynb\n",
    "import os\n",
    "import sys\n",
    "import get_urls\n",
    "from get_urls import *"
   ]
  },
  {
   "cell_type": "code",
   "execution_count": null,
   "metadata": {},
   "outputs": [],
   "source": []
  },
  {
   "cell_type": "code",
   "execution_count": null,
   "metadata": {},
   "outputs": [],
   "source": []
  },
  {
   "cell_type": "code",
   "execution_count": null,
   "metadata": {},
   "outputs": [],
   "source": [
    "print(master_reports)\n",
    "pd.DataFrame(master_reports).to_csv(\"master_reports.csv\")"
   ]
  },
  {
   "cell_type": "code",
   "execution_count": null,
   "metadata": {},
   "outputs": [],
   "source": [
    "#ANALYZE NAME CRITERIA FOR BALANCE SHEET, INCOME STATEMENT AND CASH FLOWS\n",
    "#write unique short names to a csv\n",
    "pd.DataFrame(unique(master_reports_extract['name_short'])).to_csv(\"stmt_name_list.csv\")"
   ]
  },
  {
   "cell_type": "code",
   "execution_count": null,
   "metadata": {},
   "outputs": [],
   "source": [
    "stmt_name_list = pd.read_csv(\"stmt_name_list.csv\")\n",
    "#print(unique(stmt_list))"
   ]
  },
  {
   "cell_type": "code",
   "execution_count": null,
   "metadata": {},
   "outputs": [],
   "source": [
    "#BALANCE SHEET NAMES \n",
    "# consolidated balance sheet\n",
    "# consolidated balance sheet (parenthetical)\n",
    "# consolidated balance sheets\n",
    "# consolidated balance sheets (parenthetical)\n",
    "# consolidated balance sheets consolidated balance sheet parenthetical\n",
    "# consolidated balance sheets parenthetical\n",
    "\n",
    "bs_reports = master_reports_extract[master_reports_extract['name_short'].str.contains(\"consolidated balance sheet\")]"
   ]
  },
  {
   "cell_type": "code",
   "execution_count": null,
   "metadata": {},
   "outputs": [],
   "source": [
    "#INCOME STATEMENT NAMES \n",
    "# consolidated statements of comprehensive income\n",
    "# consolidated statements of comprehensive income (loss)\n",
    "# consolidated statements of comprehensive income (parenthetical)\n",
    "# consolidated statements of comprehensive income (parentheticals)\n",
    "# consolidated statements of comprehensive loss\n",
    "# consolidated statements of earnings\n",
    "# consolidated statements of earnings (parenthetical)\n",
    "# consolidated statements of income\n",
    "# consolidated statements of operations\n",
    "# consolidated statements of operations and comprehensive income\n",
    "# consolidated statements of operations and comprehensive income (loss)\n",
    "# consolidated statements of operations and comprehensive income (parenthetical)\n",
    "# consolidated statements of operations and comprehensive loss\n",
    "\n",
    "ic_reports = master_reports_extract[master_reports_extract['name_short'].str.contains(\"consolidated statements of comprehensive income\")\n",
    "                                   | master_reports_extract['name_short'].str.contains(\"consolidated statements of operations and comprehensive income\") \n",
    "                                   | master_reports_extract['name_short'].str.contains(\"consolidated statements of earnings\") \n",
    "                                   ]\n"
   ]
  },
  {
   "cell_type": "code",
   "execution_count": null,
   "metadata": {},
   "outputs": [],
   "source": [
    "# CASH FLOWS\n",
    "# consolidated statements of cash flows\n",
    "# consolidated statement of cash flows\n",
    "# consolidated statements of cash flows (parenthetical)\n",
    "\n",
    "\n",
    "cf_reports = master_reports_extract[master_reports_extract['name_short'].str.contains(\"consolidated statements of cash flows\")\n",
    "                                   | master_reports_extract['name_short'].str.contains(\"consolidated statement of cash flows\") \n",
    "                                   ]\n",
    "print(pd.DataFrame(cf_reports))"
   ]
  },
  {
   "cell_type": "code",
   "execution_count": null,
   "metadata": {},
   "outputs": [],
   "source": [
    "#remove numbers and turn to float else none\n",
    "def clean_data_str(string):\n",
    "    result = re.sub('[^0-9]','', string)\n",
    "    try:\n",
    "        result = float(result)\n",
    "    except Exception as ex:\n",
    "        result = None \n",
    "        pass\n",
    "    return(result)"
   ]
  },
  {
   "cell_type": "code",
   "execution_count": null,
   "metadata": {},
   "outputs": [],
   "source": [
    "#give a list of statement urls and returns a list of dictionaries which have different parts of each statement (header, section, data)\n",
    "def parse_statement_data(statements_url_df):\n",
    "    # let's assume we want all the statements in a single data set.\n",
    "    statements_data = []\n",
    "\n",
    "    # loop through each statement url\n",
    "    for index, row in statements_url_df.iterrows():\n",
    "\n",
    "        # define a dictionary that will store the different parts of the statement.\n",
    "        statement_data = {}\n",
    "        statement_data['cik'] = row['cik']\n",
    "        statement_data['name'] = row['name']\n",
    "        statement_data['date'] = row['date']\n",
    "        statement_data['headers'] = []\n",
    "        statement_data['sections'] = []\n",
    "        statement_data['data'] = []\n",
    "        \n",
    "        try:\n",
    "            # request the statement file content\n",
    "            #print(\"requesting statement: \" + row['url'])\n",
    "            content = requests.get(row['url']).content\n",
    "            sleep(0.3)\n",
    "            report_soup = BeautifulSoup(content, 'html')\n",
    "\n",
    "\n",
    "\n",
    "            # find all the rows, figure out what type of row it is, parse the elements, and store in the statement file list.\n",
    "            for index, row in enumerate(report_soup.table.find_all('tr')):\n",
    "\n",
    "                # first let's get all the elements.\n",
    "                cols = row.find_all('td')\n",
    "\n",
    "                # if it's a regular row and not a section or a table header\n",
    "                if (len(row.find_all('th')) == 0 and len(row.find_all('strong')) == 0): \n",
    "                    reg_row = [ele.text.strip() for ele in cols]\n",
    "                    statement_data['data'].append(reg_row)\n",
    "\n",
    "                # if it's a regular row and a section but not a table header\n",
    "                elif (len(row.find_all('th')) == 0 and len(row.find_all('strong')) != 0):\n",
    "                    sec_row = cols[0].text.strip()\n",
    "                    statement_data['sections'].append(sec_row)\n",
    "\n",
    "                # finally if it's not any of those it must be a header\n",
    "                elif (len(row.find_all('th')) != 0):            \n",
    "                    hed_row = [ele.text.strip() for ele in row.find_all('th')]\n",
    "                    statement_data['headers'].append(hed_row)\n",
    "\n",
    "                else:            \n",
    "                    print('We encountered an error.')\n",
    "        except Exception as ex:\n",
    "            print(\"Failed\")\n",
    "            pass\n",
    "\n",
    "        # append it to the master list.\n",
    "        statements_data.append(statement_data)\n",
    "    statement_df = pd.DataFrame(statements_data)\n",
    "   # print(statement_df)\n",
    "    for index, row in statement_df.iterrows():\n",
    "        for i in row['data']:\n",
    "            try: \n",
    "                metric_cik = row['cik']\n",
    "                metric_company = row['name']\n",
    "                metric_year = row['headers'][1][0][-4:]\n",
    "                metric_name = i[0]\n",
    "                metric_value = clean_data_str(i[1])\n",
    "                #print(metric_cik)\n",
    "                #print(metric_name)\n",
    "                # print(metric_value)\n",
    "            except Exception as ex:\n",
    "                pass\n",
    "    "
   ]
  }
 ],
 "metadata": {
  "kernelspec": {
   "display_name": "Python 3",
   "language": "python",
   "name": "python3"
  },
  "language_info": {
   "codemirror_mode": {
    "name": "ipython",
    "version": 3
   },
   "file_extension": ".py",
   "mimetype": "text/x-python",
   "name": "python",
   "nbconvert_exporter": "python",
   "pygments_lexer": "ipython3",
   "version": "3.8.3"
  }
 },
 "nbformat": 4,
 "nbformat_minor": 4
}
